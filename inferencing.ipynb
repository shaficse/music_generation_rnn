{
 "cells": [
  {
   "cell_type": "code",
   "execution_count": 16,
   "metadata": {},
   "outputs": [
    {
     "data": {
      "text/plain": [
       "[]"
      ]
     },
     "execution_count": 16,
     "metadata": {},
     "output_type": "execute_result"
    }
   ],
   "source": [
    "import tensorflow as tf\n",
    "import numpy as np\n",
    "import os\n",
    "import time\n",
    "import functools\n",
    "from IPython import display as ipythondisplay\n",
    "from tqdm  import tqdm\n",
    "import dataprocessor.processor as data_loader\n",
    "import dataprocessor.util as data_util\n",
    "import models.model as model_loader\n",
    "import models.configure as model_config\n",
    "import json\n",
    "\n",
    "'''To resolve Running the Tensorflow 2.0 code gives \n",
    "   ValueError: tf.function-decorated function tried to create\n",
    "   variables on non-first call'. What am I doing wrong?\n",
    "'''\n",
    "tf.config.run_functions_eagerly(True)\n",
    "\n",
    "!!apt-get install abcmidi timidity > /dev/null 2>&1\n",
    "\n",
    "# Check that we are using a GPU, if not switch runtimes\n",
    "#   using Runtime > Change Runtime Type > GPU\n",
    "# assert len(tf.config.list_physical_devices('GPU')) > 0"
   ]
  },
  {
   "cell_type": "code",
   "execution_count": 17,
   "metadata": {},
   "outputs": [
    {
     "name": "stdout",
     "output_type": "stream",
     "text": [
      "X:3\n",
      "T:Belfast\n",
      "Z: id:dc-hornpipe-3\n",
      "M:C|\n",
      "L:1/8\n",
      "K:D Major\n",
      "ag|(3faf df AdFA|DFAd f2ef|gbec dfAF|GABG E2ag|!\n",
      "(3faf df AdFA|DFAd f2ef|gbed cABc|d2f2 d2:|!\n",
      "(3DEF|GFGA Bcde|fgfe dcdB|A2f2 fef2|G2e2 ede2|!\n",
      "GFGA Bcde|fgfe dcdB|Afed cABc|d2f2 d2:|!\n",
      "ag|(3fgf (3efe (3ded (3cdc|(3BcB (3ABA G2ba|(3gag (3fgf (3efe (3ded|(3cdc (3BcB A2ag|!\n",
      "(3fgf (3efe (3ded (3cdc|(3BcB (3ABA (3GAG (3FGF|Eged cABc|d2f2 d2:|!\n"
     ]
    }
   ],
   "source": [
    "#load data for test\n",
    "songs = data_loader.load_training_data()\n",
    "print(songs[2])\n",
    "# Join our list of song strings into a single string containing all songs\n",
    "songs_joined = \"\\n\\n\".join(songs) "
   ]
  },
  {
   "cell_type": "code",
   "execution_count": 18,
   "metadata": {},
   "outputs": [],
   "source": [
    "#load char2index\n",
    "f = open('char2idx.json')\n",
    "char2idx = json.load(f)\n",
    "f.close()\n",
    "# print(type(char2idx),char2idx.keys())"
   ]
  },
  {
   "cell_type": "code",
   "execution_count": 19,
   "metadata": {},
   "outputs": [],
   "source": [
    "# Create a mapping from indices to characters. This is\n",
    "#   the inverse of char2idx and allows us to convert back\n",
    "#   from unique index to the character in our vocabulary.\n",
    "idx2char = np.array([iter[0] for iter in list(char2idx.items())])"
   ]
  },
  {
   "cell_type": "code",
   "execution_count": 20,
   "metadata": {},
   "outputs": [
    {
     "data": {
      "text/plain": [
       "83"
      ]
     },
     "execution_count": 20,
     "metadata": {},
     "output_type": "execute_result"
    }
   ],
   "source": [
    "len(idx2char)"
   ]
  },
  {
   "cell_type": "code",
   "execution_count": 21,
   "metadata": {},
   "outputs": [
    {
     "data": {
      "text/plain": [
       "array(['\\n', ' ', '!', '\"', '#', \"'\", '(', ')', ',', '-', '.', '/', '0',\n",
       "       '1', '2', '3', '4', '5', '6', '7', '8', '9', ':', '<', '=', '>',\n",
       "       'A', 'B', 'C', 'D', 'E', 'F', 'G', 'H', 'I', 'J', 'K', 'L', 'M',\n",
       "       'N', 'O', 'P', 'Q', 'R', 'S', 'T', 'U', 'V', 'W', 'X', 'Y', 'Z',\n",
       "       '[', ']', '^', '_', 'a', 'b', 'c', 'd', 'e', 'f', 'g', 'h', 'i',\n",
       "       'j', 'k', 'l', 'm', 'n', 'o', 'p', 'q', 'r', 's', 't', 'u', 'v',\n",
       "       'w', 'x', 'y', 'z', '|'], dtype='<U1')"
      ]
     },
     "execution_count": 21,
     "metadata": {},
     "output_type": "execute_result"
    }
   ],
   "source": [
    "\n",
    "idx2char"
   ]
  },
  {
   "cell_type": "code",
   "execution_count": 22,
   "metadata": {},
   "outputs": [],
   "source": [
    "vectorized_songs = data_loader.vectorize_string(songs_joined,char2idx)"
   ]
  },
  {
   "cell_type": "code",
   "execution_count": 23,
   "metadata": {},
   "outputs": [
    {
     "name": "stdout",
     "output_type": "stream",
     "text": [
      "200679 83\n"
     ]
    }
   ],
   "source": [
    "print(len(vectorized_songs),len(set(vectorized_songs)))"
   ]
  },
  {
   "cell_type": "code",
   "execution_count": null,
   "metadata": {},
   "outputs": [],
   "source": []
  },
  {
   "cell_type": "code",
   "execution_count": 24,
   "metadata": {},
   "outputs": [],
   "source": [
    "# Build a simple model with default hyperparameters. You will get the \n",
    "#   chance to change these later.\n",
    "vocab_size=len(char2idx)\n",
    "batch_size=1\n",
    "model = model_loader.build_model(vocab_size, model_config.embedding_dim, model_config.rnn_units, batch_size)\n"
   ]
  },
  {
   "cell_type": "code",
   "execution_count": 25,
   "metadata": {},
   "outputs": [
    {
     "name": "stdout",
     "output_type": "stream",
     "text": [
      "Model: \"sequential_1\"\n",
      "_________________________________________________________________\n",
      "Layer (type)                 Output Shape              Param #   \n",
      "=================================================================\n",
      "embedding_1 (Embedding)      (1, None, 256)            21248     \n",
      "_________________________________________________________________\n",
      "lstm_1 (LSTM)                (1, None, 1024)           5246976   \n",
      "_________________________________________________________________\n",
      "dense_1 (Dense)              (1, None, 83)             85075     \n",
      "=================================================================\n",
      "Total params: 5,353,299\n",
      "Trainable params: 5,353,299\n",
      "Non-trainable params: 0\n",
      "_________________________________________________________________\n"
     ]
    }
   ],
   "source": [
    "# Restore the model weights for the last checkpoint after training\n",
    "model.load_weights(tf.train.latest_checkpoint(model_config.checkpoint_dir))\n",
    "model.build(tf.TensorShape([1, None]))\n",
    "model.summary()"
   ]
  },
  {
   "cell_type": "code",
   "execution_count": 26,
   "metadata": {},
   "outputs": [
    {
     "name": "stderr",
     "output_type": "stream",
     "text": [
      "100%|██████████| 1000/1000 [00:05<00:00, 195.56it/s]"
     ]
    },
    {
     "name": "stdout",
     "output_type": "stream",
     "text": [
      "X:usc\"=Sf eaa eaa2|ecgc acgc|ecgc acgc|eedecAc|dfec d2ge|d|cAGB ADFA|!\n",
      "DEFD EFGB|A=FF BAGF|GEBED|!\n",
      "EGBG AGED|E2GA Bdgf|edef ed ef AFD|!\n",
      "B3 BAB|G3 F2G|ABA AGA Bcd:|!\n",
      "F2|A4 B2|D2 F2 E2|D2 E2 D2|F4 G2|A4 B2|A3 G F2|F2 Ee dc|d2 df ed|^ce e2|c2 dc BAG A2c|cBc dcB|cAF DEFG A2|]!\n",
      "ce|Adfd Adfd|Adfd dcBc|Acec Acec|Acec dcBc|!\n",
      "Adfd adfd|Acce agae|faed cA:|!\n",
      "Bd|eaag a2ga|bgaf gfed|Bdgd egg2 a2ba|gedB GBdg:|!\n",
      "X:76\n",
      "T:Dowd's No. 1\n",
      "Z: id:dc-polka-37\n",
      "M:2/4\n",
      "L:1/8\n",
      "K:D Major\n",
      "FE|D2 FG|A2 F2|D4:|!\n",
      "fgf afdfe|fed BdB|!\n",
      "AFE EFE|DFA BAB|cAG E2|]!\n",
      "X:45\n",
      "T:Dillon's Fancy\n",
      "Z: id:dc-reel-76\n",
      "M:C\n",
      "L:1/8\n",
      "K:D Mixolydian\n",
      "ag|fded cAGE|cBcd edcd|edBc d3A|d2eg fe:|!\n"
     ]
    },
    {
     "name": "stderr",
     "output_type": "stream",
     "text": [
      "\n"
     ]
    }
   ],
   "source": [
    "'''Use the model and the function defined above to generate ABC format text of length 1000!\n",
    "    As you may notice, ABC files start with \"X\" - this may be a good start string.'''\n",
    "generated_text = model_loader.generate_text(model,char2idx,idx2char, start_string=\"X\", generation_length=1000)\n",
    "\n",
    "### Play back generated songs ###\n",
    "\n",
    "generated_songs = data_loader.extract_song_snippet(generated_text)\n",
    "\n",
    "for i, song in enumerate(generated_songs): \n",
    "  # Synthesize the waveform from a song\n",
    "  waveform = data_loader.play_song(song)\n",
    "  print(song)\n",
    "  # If its a valid song (correct syntax), lets play it! \n",
    "  if waveform:\n",
    "    print(\"Generated song\", i)\n",
    "    ipythondisplay.display(waveform)"
   ]
  },
  {
   "cell_type": "code",
   "execution_count": null,
   "metadata": {},
   "outputs": [],
   "source": []
  },
  {
   "cell_type": "code",
   "execution_count": null,
   "metadata": {},
   "outputs": [],
   "source": []
  }
 ],
 "metadata": {
  "kernelspec": {
   "display_name": "introtodeepln",
   "language": "python",
   "name": "introtodeepln"
  },
  "language_info": {
   "codemirror_mode": {
    "name": "ipython",
    "version": 3
   },
   "file_extension": ".py",
   "mimetype": "text/x-python",
   "name": "python",
   "nbconvert_exporter": "python",
   "pygments_lexer": "ipython3",
   "version": "3.6.13"
  }
 },
 "nbformat": 4,
 "nbformat_minor": 4
}
